{
 "cells": [
  {
   "cell_type": "markdown",
   "metadata": {},
   "source": [
    "# Advanced Data Analysis - Getting to know Jupyter\n",
    "|Learning objectives of this class| Data tasks you will perform|\n",
    "|:-------|:---|\n",
    "|1) Become familiar with Jupyter notebooks | Automating analysis\n",
    "|2) Basic Python data structures | Plotting raw data from an intracellular recording, automatic detction of spikes and plot a histogram of instantaneous firing rate \n",
    "|3) Loading and using modules/libraries| Plot the raw data from a voltage clamp experiment of Kv currents, plot the IV and activation curves\n",
    "|4) Importing data: text, csv and image files| Loading images and movies, display multiple contours on images and raster plots of imaging data with colour scales\n",
    "|5) numpy arrays, indexing and exploring\n",
    "|6) Visualise data "
   ]
  },
  {
   "cell_type": "markdown",
   "metadata": {},
   "source": [
    "# Jupyter basics\n",
    "<img src=\"JupyterCells.png\">"
   ]
  },
  {
   "cell_type": "code",
   "execution_count": null,
   "metadata": {},
   "outputs": [],
   "source": [
    "# the hash symbol comments out your code i.e. it is ignored when you run/execute the code\n",
    "print('ctrl + enter will execute this cell') # everything after the # symbol on each line is \"commented out\"\n",
    "print('whereas shift + enter will execute this cell and move to the next')"
   ]
  },
  {
   "cell_type": "code",
   "execution_count": null,
   "metadata": {},
   "outputs": [],
   "source": [
    "print('When a cell is green it is in the \"edit mode\" and you can type in it \\n')\n",
    "print('ctrl+enter to execute this cell\\n') \n",
    "print('it is now blue and in the \"command mode\", you can use the arrow keys to move up and down \\nto different cells\\n')\n",
    "print('The b key will add a new cell below the selected cell in command mode')\n",
    "print('Press b and in the new cell type a=\"hello \" and a new line type b=1 and agian on \\nanother line type c=0.1')"
   ]
  },
  {
   "cell_type": "code",
   "execution_count": null,
   "metadata": {},
   "outputs": [],
   "source": [
    "print(a,b,'and all') # print() you can print a series of things with each \n",
    "# seperated by a comma"
   ]
  },
  {
   "cell_type": "markdown",
   "metadata": {},
   "source": [
    "### a, b, and c now exist in memory, you can see them in the variable inspector"
   ]
  },
  {
   "cell_type": "code",
   "execution_count": null,
   "metadata": {},
   "outputs": [],
   "source": [
    "print(\"a is a \",type(a))\n",
    "print(\"b is a \",type(b))\n",
    "print(\"c is a \",type(c))\n"
   ]
  },
  {
   "cell_type": "markdown",
   "metadata": {},
   "source": [
    "strings are just text inside inverted commas, here a is a string as its contents are \"hello\". <br/>\n",
    "b and c are variables which are just single numbers, they can be integers (i.e. whole numbers) or floats (have decimals)"
   ]
  },
  {
   "cell_type": "code",
   "execution_count": null,
   "metadata": {},
   "outputs": [],
   "source": [
    "d=b/3\n",
    "print(d)\n",
    "print(\"d is a \",type(d))"
   ]
  },
  {
   "cell_type": "markdown",
   "metadata": {},
   "source": [
    "if you divide an integer it will return a float"
   ]
  },
  {
   "cell_type": "code",
   "execution_count": null,
   "metadata": {
    "scrolled": true
   },
   "outputs": [],
   "source": [
    "e = []\n",
    "print(\"e is a \",type(e))"
   ]
  },
  {
   "cell_type": "markdown",
   "metadata": {},
   "source": [
    "list are containers of python things, you can create an empty one as above or put any kind of data class into them"
   ]
  },
  {
   "cell_type": "code",
   "execution_count": null,
   "metadata": {},
   "outputs": [],
   "source": [
    "e.append(c)\n",
    "e.append(b)\n",
    "e.append(d)\n",
    "e.append(a)\n",
    "\n",
    "f=['lists are just lists of things','that can contain any data type']\n",
    "e.append(f)\n",
    "e.append('the last item in this list')\n",
    "\n",
    "print(e)\n"
   ]
  },
  {
   "cell_type": "markdown",
   "metadata": {},
   "source": [
    "#### list are usefull to append things to, you can query how many items are in the list with len(), type len(e) below"
   ]
  },
  {
   "cell_type": "code",
   "execution_count": null,
   "metadata": {},
   "outputs": [],
   "source": [
    "print('there are ',len(e), 'items in e')\n",
    "\n",
    "print(e[4])\n",
    "e[-1] # you can print or refer to different items in the list by referring to their position, \n",
    "# including - will count the position from the end of the list\n"
   ]
  },
  {
   "cell_type": "markdown",
   "metadata": {},
   "source": [
    " "
   ]
  },
  {
   "cell_type": "code",
   "execution_count": null,
   "metadata": {},
   "outputs": [],
   "source": [
    "alist=['each','of','these','is','the','contents','of','the','list','at','the','specified','index','of','the','list']"
   ]
  },
  {
   "cell_type": "markdown",
   "metadata": {},
   "source": [
    "## loops enable iteration over data sets repeating laborious tasks, i.e. they perform automation of analysis"
   ]
  },
  {
   "cell_type": "code",
   "execution_count": null,
   "metadata": {},
   "outputs": [],
   "source": [
    "for i in range(9):      ## now change \"9\" to len(alist)\n",
    "    print(i, alist[i])\n",
    "print(\"this isn't in the loop\")"
   ]
  },
  {
   "cell_type": "markdown",
   "metadata": {},
   "source": [
    "## the first line of a for loop should be:\n",
    "    for 'iterable' in range(int):\n",
    "        the content of the loop\n",
    "        is everything at one indent after the\n",
    "        first line"
   ]
  },
  {
   "cell_type": "code",
   "execution_count": null,
   "metadata": {},
   "outputs": [],
   "source": [
    "for i in alist:      ## the iterable can directly report each item at index of the list\n",
    "    print(i)"
   ]
  },
  {
   "cell_type": "code",
   "execution_count": null,
   "metadata": {},
   "outputs": [],
   "source": [
    "numbersInList=[0,1,2,3,4,5,6,7,8,9]\n",
    "numbersInList=numbersInList*2\n",
    "print(numbersInList)"
   ]
  },
  {
   "cell_type": "markdown",
   "metadata": {},
   "source": [
    "# The basics\n",
    "### You have learnt about:\n",
    "   - jupyter edit and command modes\n",
    "   - code **cells** and *markdown* ***cells***\n",
    "   - *strings* and **variables: ints and floats**\n",
    "   - lists: **learn more of their very useful functions here**: https://docs.python.org/3/tutorial/datastructures.html\n",
    "   - how to query the data type of an object: \"**type(object)**\"\n",
    "   - how to query the length of an object: \"**len(object)**\"\n",
    "   - how to query an index of a list: \"**list[index]**\"\n",
    "   - how to use for loops\n",
    "   - you can't do maths with lists of variables\n",
    "   \n",
    "   - There are other basic data classes that we will not cover such as Dictionaries{} as we will not be using them, you can learn more about them here: https://docs.python.org/3/tutorial/datastructures.html#dictionaries "
   ]
  },
  {
   "cell_type": "markdown",
   "metadata": {},
   "source": [
    "# Loading and using modules/libraries"
   ]
  },
  {
   "cell_type": "markdown",
   "metadata": {},
   "source": [
    "## Python has been extended with modules developed by a massive community to enable you to do pretty much any kind of analysis or data visualisation that you need \n",
    "\n",
    "\n",
    "### To use any of these modules you first need to install the package/module:\n",
    "- via anaconda environment package manager\n",
    "- or via pip install in the terminal\n",
    "\n",
    "##### Note on terminology: Libraries are collections of packages which are collections of modules"
   ]
  },
  {
   "cell_type": "code",
   "execution_count": null,
   "metadata": {},
   "outputs": [],
   "source": [
    "import numpy as np      # this imports all of numpy which you will now refer to as n\n",
    "from matplotlib import pyplot as plt # this imports the pyplot package from the matplotlib\n",
    "# library which you will now refer to as plt\n",
    "\n",
    "plt.rcParams.update({'font.size': 14})  # sets the font size of all plots to 14"
   ]
  },
  {
   "cell_type": "code",
   "execution_count": null,
   "metadata": {},
   "outputs": [],
   "source": [
    "a=np.asarray(numbersInList)   #we have now converted the list of numbers to an array"
   ]
  },
  {
   "cell_type": "code",
   "execution_count": null,
   "metadata": {},
   "outputs": [],
   "source": [
    "a=a*2\n",
    "a"
   ]
  },
  {
   "cell_type": "code",
   "execution_count": null,
   "metadata": {},
   "outputs": [],
   "source": [
    "b=a[0:9]\n",
    "b"
   ]
  },
  {
   "cell_type": "markdown",
   "metadata": {},
   "source": [
    "# Now we will load some real data\n",
    "- data is a current clamp recording from a mitral cell in the olfactory bulb, a current injection is given to evoke action potential firing\n",
    "- we are going to plot the raw data, use event detection to automatically identify spikes and then calculate the average firing rate of the cell"
   ]
  },
  {
   "cell_type": "code",
   "execution_count": null,
   "metadata": {},
   "outputs": [],
   "source": [
    "data = np.loadtxt('mitralSpikes.txt');\n",
    "dataPoints = len(data)\n",
    "peak = np.max(data)\n",
    "AHP = np.min(data)\n",
    "\n",
    "print(\"this data has \",dataPoints,'data points, with a peak of ',peak,'and a minimum of ',AHP)"
   ]
  },
  {
   "cell_type": "markdown",
   "metadata": {},
   "source": [
    "# now we will visualise it"
   ]
  },
  {
   "cell_type": "code",
   "execution_count": null,
   "metadata": {},
   "outputs": [],
   "source": [
    "plt.plot(data); # matplotlib enables very quick and simple display of data\n"
   ]
  },
  {
   "cell_type": "markdown",
   "metadata": {},
   "source": [
    "### To make the plots more accurate we need an xscale and to add axis labels"
   ]
  },
  {
   "cell_type": "code",
   "execution_count": null,
   "metadata": {},
   "outputs": [],
   "source": [
    "sampleRate = 15000\n",
    "xScale = np.arange(0,(len(data)/sampleRate),1/sampleRate)"
   ]
  },
  {
   "cell_type": "code",
   "execution_count": null,
   "metadata": {},
   "outputs": [],
   "source": [
    "fig = plt.figure(figsize=(15,5)) #specify the canvas on which the figure will be plotted\n",
    "ax1 = fig.add_subplot(111) # ax1 is the subplot axis in which we will plot things\n",
    "\n",
    "ax1.plot(xScale,data)\n",
    "\n",
    "ax1.set_xlabel('Time (s)');\n",
    "ax1.set_ylabel('Vm (mV)');\n"
   ]
  },
  {
   "cell_type": "markdown",
   "metadata": {},
   "source": [
    "### Now lets get the time of each action potential so that we can calculate spike rate.\n",
    "We will use the signal package from scipy to do this"
   ]
  },
  {
   "cell_type": "code",
   "execution_count": null,
   "metadata": {},
   "outputs": [],
   "source": [
    "import scipy.signal as signal"
   ]
  },
  {
   "cell_type": "code",
   "execution_count": null,
   "metadata": {
    "scrolled": true
   },
   "outputs": [],
   "source": [
    "peaks, props = signal.find_peaks(data,height=0) #this function returns two things: 1) peaks\n",
    "# which is the location of the spike in sample points and props which contains other details about the peaks\n",
    "peaks=peaks/sampleRate  # convert the sample points to time\n",
    "peakY=np.zeros(len(peaks))     #np.zeros(x) creates an array of length x filled with zeros, np.ones fills it with 1s\n",
    "print('we detected ',len(peaks),' spikes')"
   ]
  },
  {
   "cell_type": "markdown",
   "metadata": {},
   "source": [
    "### we now have a list of spike times, we can now make a histogram of the instantaneous spike rates"
   ]
  },
  {
   "cell_type": "code",
   "execution_count": null,
   "metadata": {},
   "outputs": [],
   "source": [
    "interSpikeIntervals = peaks[1:]-peaks[0:-1]\n",
    "meanISI = np.mean(interSpikeIntervals)\n",
    "\n",
    "plt.hist(1/interSpikeIntervals);\n",
    "plt.xlabel('Hz')\n",
    "print('The mean spike rate is',1/meanISI,'Hz')"
   ]
  },
  {
   "cell_type": "markdown",
   "metadata": {},
   "source": [
    "## Now we will put all of this together to make a publictaion quality figure"
   ]
  },
  {
   "cell_type": "code",
   "execution_count": null,
   "metadata": {},
   "outputs": [],
   "source": [
    "fig, axs = plt.subplots(1, 2, figsize=(12, 5),constrained_layout=True, gridspec_kw={'width_ratios': [2.5, 1]}) \n",
    "# create a new canvas that is 12 x 5 for the figure with a constrained layout with 1 row and 2 columns of subplots\n",
    "# we then specify that the left column should be 2.5 time wider than the right \n",
    "\n",
    "axs[0].plot(xScale,data,label='raw data');\n",
    "axs[0].plot(peaks,peakY,'.',label='detected spikes');\n",
    "axs[0].set_xlabel('Time (s)');\n",
    "axs[0].set_ylabel('Vm (mV)');\n",
    "axs[0].legend()\n",
    "\n",
    "axs[1].hist(1/interSpikeIntervals);\n",
    "axs[1].set_xlabel('Hz');\n",
    "axs[1].set_ylabel('# of spikes');\n",
    "axs[1].set_title('Instantaneous spike rate');\n"
   ]
  },
  {
   "cell_type": "markdown",
   "metadata": {},
   "source": [
    "## Another example taking advantage of arrays\n",
    "- see the numpy cheat sheet to learn about indexing and slicing of multidimensional arrays (its in the minerva folder) \n",
    "- data is a voltage clamp recording of a Kv2 potassium current taken from: Johnston, et al (2008). Initial segment Kv2.2 channels mediate a slow delayed rectifier and maintain high frequency action potential firing in medial nucleus of the trapezoid body neurons. J Physiol 586, 3493-3509.\n",
    "- we are going to plot the raw data with the command voltage and make plots of the current voltage relationship and the activation kinetics of the channel"
   ]
  },
  {
   "cell_type": "code",
   "execution_count": null,
   "metadata": {},
   "outputs": [],
   "source": [
    "#Load the data\n",
    "measuredI=np.loadtxt('VClampI.csv', delimiter=','); ## load some new data, this is comma seperated...\n",
    "commandV=np.loadtxt('VClampV.csv', delimiter=','); ## load some new data, this is comma seperated...\n",
    "\n",
    "VCsampleRate = 10000\n",
    "xScaleVC = np.arange(0,len(measuredI)/VCsampleRate, 1/VCsampleRate)\n",
    "# the units of measuredI is pA\n",
    "# the units of commandV is mV\n"
   ]
  },
  {
   "cell_type": "code",
   "execution_count": null,
   "metadata": {},
   "outputs": [],
   "source": [
    "# check what its dimensions look like\n",
    "print('len returns',len(measuredI))\n",
    "print('whereas .shape returns the length of each dimension')\n",
    "print(measuredI.shape) # standard python index for multiple dimension is [z,x,y]"
   ]
  },
  {
   "cell_type": "code",
   "execution_count": null,
   "metadata": {},
   "outputs": [],
   "source": [
    "plt.plot(measuredI);\n"
   ]
  },
  {
   "cell_type": "markdown",
   "metadata": {},
   "source": [
    "#### All of the current traces are in pA lets convert them all to nA by dividing them all by 1000"
   ]
  },
  {
   "cell_type": "code",
   "execution_count": null,
   "metadata": {},
   "outputs": [],
   "source": [
    "measuredI=measuredI/1000\n",
    "plt.plot(measuredI);"
   ]
  },
  {
   "cell_type": "markdown",
   "metadata": {},
   "source": [
    "## We will now make a multipanel figure displaying the raw data and some analysis"
   ]
  },
  {
   "cell_type": "code",
   "execution_count": null,
   "metadata": {},
   "outputs": [],
   "source": [
    "fig, axs = plt.subplots(2, 2, figsize=(12, 8),constrained_layout=True, sharex='col')\n",
    "\n",
    "axs[0,0].plot(xScaleVC,measuredI)\n",
    "axs[0,0].set_xlim(.72,.9)\n",
    "axs[0,0].set_ylabel('current (nA)')\n",
    "# add lines to indicate where measurements were taken\n",
    "axs[0,0].axvline(.78,0.1,1,linestyle='--')\n",
    "axs[0,0].axvline(.8724,0.1,1,linestyle='--',color='r')\n",
    "\n",
    "axs[1,0].plot(xScaleVC,commandV)\n",
    "axs[1,0].set_ylabel('Voltage (mV)')\n",
    "axs[1,0].set_xlabel('Time (s)')\n",
    "\n",
    "\n",
    "axs[0,1].plot(commandV[7800,:],measuredI[7800,:],linewidth=2,marker='o')\n",
    "axs[0,1].set_title('Current voltage relationship')\n",
    "axs[0,1].set_ylabel('current (nA)')\n",
    "\n",
    "activation = measuredI[8724,:]-measuredI[8724,-1]\n",
    "activation=activation/activation[0]\n",
    "\n",
    "axs[1,1].plot(commandV[8000,:],activation,'r',linewidth=2,marker='o')\n",
    "axs[1,1].set_title('Activation curve')\n",
    "axs[1,1].set_ylabel('I/Imax')\n",
    "axs[1,1].set_xlabel('Voltage (mV)');"
   ]
  },
  {
   "cell_type": "markdown",
   "metadata": {},
   "source": [
    "# numpy arrays and plotting\n",
    "### You have learnt about:\n",
    "   - how to load extra modules into python and import them for use in your analysis\n",
    "   - how to load text files and csv data into numpy arrays\n",
    "   - numpy arrays allow maths on lists of numbers\n",
    "   - how to query the dimesions of numpy arrays\n",
    "   - how to quickly plot data to examine it using matplotlib\n",
    "   - you used a module of scipy to detect action potentials and calculated firing rate\n",
    "   - how to generate multipanel layouts with annotated figures\n",
    "   - how to loop through arrays to efficiently add multiple traces to a graph\n",
    "   - how to use numpy indexing to quickly generate analysis plots \n",
    "   \n"
   ]
  },
  {
   "cell_type": "markdown",
   "metadata": {},
   "source": [
    "# Images: importing, properties, indexing and display\n",
    "\n",
    "- 2-Photon imaging of GCaMP6 expressing inhibotory neurons around the central canal of the spinal cord\n",
    "- We are going to inspect image histograms and adjust the display of this image based on these ranges\n",
    "- We are going to measure the identified cell sizes and make a histogram\n",
    "- We are going to plot the identified cells as contours ontop of the average image of the field of view"
   ]
  },
  {
   "cell_type": "code",
   "execution_count": null,
   "metadata": {},
   "outputs": [],
   "source": [
    "import tifffile as tf"
   ]
  },
  {
   "cell_type": "code",
   "execution_count": null,
   "metadata": {},
   "outputs": [],
   "source": [
    "cellMaps = tf.imread('PG_Maps.tif')\n",
    "aveProjection = tf.imread('aveProjection.tif')"
   ]
  },
  {
   "cell_type": "code",
   "execution_count": null,
   "metadata": {},
   "outputs": [],
   "source": [
    "# inspect the data\n",
    "plt.figure(figsize=(8,8))\n",
    "plt.imshow(aveProjection);\n"
   ]
  },
  {
   "cell_type": "markdown",
   "metadata": {},
   "source": [
    "### Next we will adjust the display range to so that is matches more of the data "
   ]
  },
  {
   "cell_type": "code",
   "execution_count": null,
   "metadata": {},
   "outputs": [],
   "source": [
    "# image.ravel() unravels a nd image into a 1d, enabling easy calculation of a histogram\n",
    "print(cellMaps.shape)\n",
    "print(cellMaps.ravel().shape)\n",
    "print(512*512)"
   ]
  },
  {
   "cell_type": "code",
   "execution_count": null,
   "metadata": {},
   "outputs": [],
   "source": [
    "plt.hist(aveProjection.ravel(),bins=256, log=True);"
   ]
  },
  {
   "cell_type": "code",
   "execution_count": null,
   "metadata": {},
   "outputs": [],
   "source": [
    "plt.figure(figsize=(8,8))\n",
    "im = plt.imshow(aveProjection,vmin=10000, vmax=40000);\n",
    "plt.set_cmap('Greys_r')"
   ]
  },
  {
   "cell_type": "code",
   "execution_count": null,
   "metadata": {},
   "outputs": [],
   "source": [
    "plt.imshow(cellMaps[14,:,:]);"
   ]
  },
  {
   "cell_type": "code",
   "execution_count": null,
   "metadata": {},
   "outputs": [],
   "source": [
    "cellSize=[]\n",
    "for i in range(len(cellMaps)):\n",
    "    cellSize.append(np.count_nonzero(cellMaps[i,:,:])*0.433326585139103) ## with scaling\n",
    "\n",
    "plt.hist(cellSize, bins=25);"
   ]
  },
  {
   "cell_type": "code",
   "execution_count": null,
   "metadata": {},
   "outputs": [],
   "source": [
    "FigIm, axs = plt.subplots(1,2,figsize=(10,5),constrained_layout=True) # makes a figure window\n",
    "\n",
    "axs[0].imshow(aveProjection, cmap='Greys_r',vmin=10000, vmax=30000)## show the average image\n",
    "## loop through the ROIS in the map stack to display the contours ontop of the image \n",
    "for i in range(len(cellMaps)):\n",
    "    axs[0].contour(cellMaps[i,:,:],[1],colors='y');   ##you can change properties of teh contour, for syntax see (https://matplotlib.org/3.1.1/api/_as_gen/matplotlib.pyplot.contour.html)\n",
    "axs[0].axis('off')\n",
    "\n",
    "axs[1].hist(cellSize,bins=20,color='y');\n",
    "axs[1].set_xlabel('cellSize (µm^2)');\n",
    "axs[1].set_title('Histogram of cell size')\n"
   ]
  }
 ],
 "metadata": {
  "kernelspec": {
   "display_name": "Python 3",
   "language": "python",
   "name": "python3"
  },
  "language_info": {
   "codemirror_mode": {
    "name": "ipython",
    "version": 3
   },
   "file_extension": ".py",
   "mimetype": "text/x-python",
   "name": "python",
   "nbconvert_exporter": "python",
   "pygments_lexer": "ipython3",
   "version": "3.7.6"
  },
  "varInspector": {
   "cols": {
    "lenName": 16,
    "lenType": 16,
    "lenVar": 40
   },
   "kernels_config": {
    "python": {
     "delete_cmd_postfix": "",
     "delete_cmd_prefix": "del ",
     "library": "var_list.py",
     "varRefreshCmd": "print(var_dic_list())"
    },
    "r": {
     "delete_cmd_postfix": ") ",
     "delete_cmd_prefix": "rm(",
     "library": "var_list.r",
     "varRefreshCmd": "cat(var_dic_list()) "
    }
   },
   "position": {
    "height": "510px",
    "left": "762px",
    "right": "20px",
    "top": "109px",
    "width": "340px"
   },
   "types_to_exclude": [
    "module",
    "function",
    "builtin_function_or_method",
    "instance",
    "_Feature"
   ],
   "window_display": false
  }
 },
 "nbformat": 4,
 "nbformat_minor": 2
}
